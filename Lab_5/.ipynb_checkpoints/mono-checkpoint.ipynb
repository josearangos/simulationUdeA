{
 "cells": [
  {
   "cell_type": "markdown",
   "metadata": {
    "colab_type": "text",
    "id": "view-in-github"
   },
   "source": [
    "<a href=\"https://colab.research.google.com/github/arcila-heisman/ml_introductory_labs/blob/master/Lab_5/Laboratorio_5_parte_2.ipynb\" target=\"_parent\"><img src=\"https://colab.research.google.com/assets/colab-badge.svg\" alt=\"Open In Colab\"/></a>"
   ]
  },
  {
   "cell_type": "markdown",
   "metadata": {
    "colab_type": "text",
    "id": "Tr-6pgjaV4Jj"
   },
   "source": [
    "# Laboratorio 5 - Parte 2\n",
    "\n",
    "### Máquinas de Vectores de Soporte\n",
    "\n",
    "### 2019-I\n",
    "\n",
    "#### Profesor: Julián D. Arias Londoño\n",
    "#### julian.ariasl@udea.edu.co\n",
    "\n",
    "Modificado por Heisman Arcila. (Versión original en: https://github.com/jdariasl/ML_IntroductoryCourse/tree/master/Labs)"
   ]
  },
  {
   "cell_type": "markdown",
   "metadata": {
    "colab_type": "text",
    "id": "O1d-kpxwV4Jx"
   },
   "source": [
    "## Guía del laboratorio\n",
    "\n",
    "En esta archivo va a encontrar tanto celdas de código cómo celdas de texto con las instrucciones para desarrollar el laboratorio.\n",
    "\n",
    "Lea atentamente las instrucciones entregadas en las celdas de texto correspondientes y proceda con la solución de las preguntas planteadas.\n",
    "\n",
    "Nota: no olvide ir ejecutando las celdas de código de arriba hacia abajo para que no tenga errores de importación de librerías o por falta de definición de variables."
   ]
  },
  {
   "cell_type": "markdown",
   "metadata": {
    "colab_type": "text",
    "id": "Oqer9mUNV4J3"
   },
   "source": [
    "#### Primer Integrante: Melissa Barba\n",
    "#### C.C:\n",
    "#### Segundo Integrante: Carlos Daniel Montoya Hurtado\n",
    "#### C.C: 1017264995"
   ]
  },
  {
   "cell_type": "code",
   "execution_count": 6,
   "metadata": {
    "colab": {},
    "colab_type": "code",
    "id": "9iYb1FaTV4J7"
   },
   "outputs": [],
   "source": [
    "from __future__ import division\n",
    "import numpy as np\n",
    "import math\n",
    "import matplotlib.pyplot as plt\n",
    "#Algunas advertencias que queremos evitar\n",
    "import warnings\n",
    "import scipy as sc\n",
    "warnings.filterwarnings(\"ignore\")"
   ]
  },
  {
   "cell_type": "markdown",
   "metadata": {
    "colab_type": "text",
    "id": "XIvveo7kV4KT"
   },
   "source": [
    "## Ejercicio 1\n",
    "\n",
    "En este ejercicio usaremos la regresión por vectores de soporte para resolver el problema de regresión de la base de datos AirQuality (https://archive.ics.uci.edu/ml/datasets/Air+Quality)."
   ]
  },
  {
   "cell_type": "markdown",
   "metadata": {
    "colab_type": "text",
    "id": "ir-wJo4-V4KY"
   },
   "source": [
    "La siguiente celda de código limpia la base de datos de todos sus datos faltantes y la deja lista en la variable DataBase."
   ]
  },
  {
   "cell_type": "code",
   "execution_count": 7,
   "metadata": {
    "colab": {},
    "colab_type": "code",
    "id": "AmIjWFQeV4Kc",
    "outputId": "03732e6c-394a-4449-d294-5ebb4e329a44"
   },
   "outputs": [
    {
     "name": "stdout",
     "output_type": "stream",
     "text": [
      "Dim de la base de datos original: (9357, 13)\n",
      "\n",
      "Hay 366 valores perdidos en la variable de salida. :(\n",
      "\n",
      "Dim de la base de datos sin las muestras con variable de salida perdido (8991, 13)\n",
      "\n",
      "Procesando imputación de valores perdidos en las características . . .\n",
      "\n",
      "Imputación finalizada.\n",
      "\n",
      "No hay valores perdidos en la base de datos. Ahora se puede procesar. La base de datos está en la variable DataBase\n"
     ]
    }
   ],
   "source": [
    "#cargamos la bd de entrenamiento\n",
    "db = np.loadtxt('BDatos/AirQuality.data',delimiter='\\t')  # Assuming tab-delimiter\n",
    "print(\"Dim de la base de datos original: \" + str(np.shape(db)))\n",
    "db = db.reshape(9357,13)\n",
    "DataBase = db\n",
    "#La base d edatos AirQuality tiene muchos valores perdidos, vamos a quitar todos esos registros de la base de datos\n",
    "#Están marcados como -200. Donde haya un valor -200 eliminaremos el registro.\n",
    "j = 0\n",
    "for i in range(0,np.size(db,0)):\n",
    "    if -200 == db[i,12]:\n",
    "        #print i\n",
    "        j+=1\n",
    "        DataBase = np.delete(DataBase,i,0)\n",
    "    \n",
    "print(\"\\nHay \" + str(j) + \" valores perdidos en la variable de salida. :(\")\n",
    "\n",
    "print(\"\\nDim de la base de datos sin las muestras con variable de salida perdido \"+ str(np.shape(DataBase)))\n",
    "\n",
    "#Ya hemos eliminado los registros con valor de la variable de salida perdido.\n",
    "\n",
    "#Ahora vamos a imputar los valores perdidos en cada una de las características\n",
    "print(\"\\nProcesando imputación de valores perdidos en las características . . .\\n\")\n",
    "\n",
    "#data = open(\"AirQuality_cleaned.data\", \"w\")\n",
    "\n",
    "for k in range(0,np.size(DataBase,0)):\n",
    "    for w in range(0,13):\n",
    "        if -200 == DataBase[k,w]:\n",
    "            DataBase[k,w] = round(np.mean(DataBase[:,w]))\n",
    "        \n",
    "    #data.write(str(DataBase[k,:]))\n",
    "\n",
    "#data.close()\n",
    "print(\"Imputación finalizada.\\n\")\n",
    "\n",
    "hay_missed_values = False\n",
    "for i in range(0,np.size(DataBase,0)):\n",
    "    if -200 in DataBase[i,:]:\n",
    "        hay_missed_values = True\n",
    "if(hay_missed_values):\n",
    "    print(\"Hay valores perdidos\")\n",
    "else:\n",
    "    print(\"No hay valores perdidos en la base de datos. Ahora se puede procesar. La base de datos está en la variable DataBase\")"
   ]
  },
  {
   "cell_type": "code",
   "execution_count": 8,
   "metadata": {
    "colab": {},
    "colab_type": "code",
    "id": "WnH1n4ShV4Kt"
   },
   "outputs": [],
   "source": [
    "X = DataBase[:,0:12]\n",
    "\n",
    "Y = DataBase[:,12]"
   ]
  },
  {
   "cell_type": "markdown",
   "metadata": {
    "colab_type": "text",
    "id": "uwh_O_cvV4LN"
   },
   "source": [
    "Definimos la función"
   ]
  },
  {
   "cell_type": "code",
   "execution_count": 11,
   "metadata": {
    "colab": {},
    "colab_type": "code",
    "id": "N7MVmf3VV4LT"
   },
   "outputs": [],
   "source": [
    "#Mean Absolute Percentage Error para los problemas de regresión\n",
    "def MAPE(Y_est,Y):\n",
    "    ind = Y != 0 #Remueve los elementos que son cero en la variable deseada\n",
    "    N = np.size(Y[ind])\n",
    "    mape = np.sum(abs((Y_est[ind].reshape(N,1) - Y[ind].reshape(N,1))/(Y[ind].reshape(N,1)+np.finfo(np.float).eps)))/N\n",
    "    return mape "
   ]
  },
  {
   "cell_type": "markdown",
   "metadata": {
    "colab_type": "text",
    "id": "tAaIYJG2V4Li"
   },
   "source": [
    "Complete el código siguiente para usar la regresión por vectores de suporte usando la librería sklearn. https://scikit-learn.org/stable/modules/generated/sklearn.svm.SVR.html"
   ]
  },
  {
   "cell_type": "code",
   "execution_count": 17,
   "metadata": {
    "colab": {},
    "colab_type": "code",
    "id": "KMt3Q9z7V4Lo",
    "outputId": "0d181a40-1a9c-45b3-8c11-ec9ae6f7618f"
   },
   "outputs": [
    {
     "name": "stdout",
     "output_type": "stream",
     "text": [
      "\n",
      "Error de validación: 0.2259390395748797 +/- 0.11094914643434282\n",
      " Porcentaje de Vectores de Soporte: 0.21910801302774435\n",
      "\n",
      "\n",
      "Tiempo total de ejecución: 8.845686674118042 segundos.\n"
     ]
    }
   ],
   "source": [
    "from sklearn.model_selection import KFold\n",
    "from sklearn import preprocessing\n",
    "from sklearn.svm import SVR\n",
    "import time\n",
    "tiempo_i = time.time()\n",
    "\n",
    "#Complete el código para crear el modelo SVM para regresión. \n",
    "#Use un kernel rbf con una malla de valores así: C en {0.1, 100} y gamma en {0.0001, 0.1}\n",
    "\n",
    "#Implemetamos la metodología de validación cross validation con 10 folds\n",
    "Folds = 5\n",
    "Errores = np.ones(Folds)\n",
    "j = 0\n",
    "kf = KFold(n_splits=Folds)\n",
    "vectorSupport = np.ones(Folds)\n",
    "for train_index, test_index in kf.split(X):\n",
    "    \n",
    "    X_train, X_test = X[train_index], X[test_index]\n",
    "    y_train, y_test = Y[train_index], Y[test_index]  \n",
    "    \n",
    "     #Normalizamos los datos\n",
    "    scaler = preprocessing.StandardScaler().fit(X_train)\n",
    "    X_train = scaler.transform(X_train)\n",
    "    X_test = scaler.transform(X_test)\n",
    "    \n",
    "    #Complete el código\n",
    "    modelo = SVR(kernel='rbf',C=100,gamma=1)\n",
    "    \n",
    "    \n",
    "    # Entrenar el modelo\n",
    "    modelo.fit(X_train,y_train)\n",
    "    vectors = np.size(modelo.support_vectors_,0)\n",
    "    vectorSupport[j] = vectors/len(X_train)\n",
    "    # Validación del modelo\n",
    "    ypred = modelo.predict(X_test)\n",
    " \n",
    "    Errores[j] = MAPE(ypred, y_test)\n",
    "    j+=1\n",
    "    \n",
    "print(\"\\nError de validación: \" + str(np.mean(Errores)) + \" +/- \" + str(np.std(Errores)))\n",
    "print(\" Porcentaje de Vectores de Soporte: \" + str(np.mean(vectorSupport)))\n",
    "print ((\"\\n\\nTiempo total de ejecución: \" + str(time.time()-tiempo_i)) + \" segundos.\")"
   ]
  },
  {
   "cell_type": "markdown",
   "metadata": {
    "colab_type": "text",
    "id": "ucU-P1sHV4L6"
   },
   "source": [
    "## Ejercicio 2\n",
    "\n",
    "Una vez complete el código, realice las simulaciones necesarias para llenar la tabla siguiente:"
   ]
  },
  {
   "cell_type": "code",
   "execution_count": 0,
   "metadata": {
    "colab": {},
    "colab_type": "code",
    "id": "wlW6JiHEV4L-",
    "outputId": "03e896b2-d6c2-4807-c3df-b5ed4f1f3b6b"
   },
   "outputs": [
    {
     "name": "stdout",
     "output_type": "stream",
     "text": [
      "\n",
      "Error de validación: 0.1374308907965604 +/- 0.06619197313221438\n",
      "\n",
      "\n",
      "Tiempo total de ejecución:  57.69993495941162\n",
      "\n",
      "Error de validación: 0.1374308907965604 +/- 0.06619197313221438\n",
      "\n",
      "\n",
      "Tiempo total de ejecución:  57.06882309913635\n",
      "\n",
      "Error de validación: 0.1374308907965604 +/- 0.06619197313221438\n",
      "\n",
      "\n",
      "Tiempo total de ejecución:  59.52082633972168\n",
      "\n",
      "Error de validación: 0.1374308907965604 +/- 0.06619197313221438\n",
      "\n",
      "\n",
      "Tiempo total de ejecución:  58.74345850944519\n",
      "\n",
      "Error de validación: 0.1374308907965604 +/- 0.06619197313221438\n",
      "\n",
      "\n",
      "Tiempo total de ejecución:  56.70428919792175\n",
      "\n",
      "Error de validación: 0.1374308907965604 +/- 0.06619197313221438\n",
      "\n",
      "\n",
      "Tiempo total de ejecución:  56.38522386550903\n",
      "\n",
      "Error de validación: 0.061455841834732315 +/- 0.024299949365602414\n",
      "\n",
      "\n",
      "Tiempo total de ejecución:  1.9669654369354248\n",
      "\n",
      "Error de validación: 0.06540592647837132 +/- 0.031569854165239254\n",
      "\n",
      "\n",
      "Tiempo total de ejecución:  1.6195745468139648\n",
      "\n",
      "Error de validación: 0.14106152211671336 +/- 0.07312234095066142\n",
      "\n",
      "\n",
      "Tiempo total de ejecución:  6.739572048187256\n",
      "\n",
      "Error de validación: 0.061455841834732315 +/- 0.024299949365602414\n",
      "\n",
      "\n",
      "Tiempo total de ejecución:  1.9631552696228027\n",
      "\n",
      "Error de validación: 0.06540592647837132 +/- 0.031569854165239254\n",
      "\n",
      "\n",
      "Tiempo total de ejecución:  1.6129827499389648\n",
      "\n",
      "Error de validación: 0.14106152211671336 +/- 0.07312234095066142\n",
      "\n",
      "\n",
      "Tiempo total de ejecución:  6.754835844039917\n",
      "\n",
      "Error de validación: 0.061455841834732315 +/- 0.024299949365602414\n",
      "\n",
      "\n",
      "Tiempo total de ejecución:  1.9674510955810547\n",
      "\n",
      "Error de validación: 0.06540592647837132 +/- 0.031569854165239254\n",
      "\n",
      "\n",
      "Tiempo total de ejecución:  1.611844778060913\n",
      "\n",
      "Error de validación: 0.14106152211671336 +/- 0.07312234095066142\n",
      "\n",
      "\n",
      "Tiempo total de ejecución:  6.741686820983887\n",
      "\n",
      "Error de validación: 0.061455841834732315 +/- 0.024299949365602414\n",
      "\n",
      "\n",
      "Tiempo total de ejecución:  1.9930517673492432\n",
      "\n",
      "Error de validación: 0.06540592647837132 +/- 0.031569854165239254\n",
      "\n",
      "\n",
      "Tiempo total de ejecución:  1.642690896987915\n",
      "\n",
      "Error de validación: 0.14106152211671336 +/- 0.07312234095066142\n",
      "\n",
      "\n",
      "Tiempo total de ejecución:  6.747849225997925\n",
      "\n",
      "Error de validación: 0.061455841834732315 +/- 0.024299949365602414\n",
      "\n",
      "\n",
      "Tiempo total de ejecución:  1.970228672027588\n",
      "\n",
      "Error de validación: 0.06540592647837132 +/- 0.031569854165239254\n",
      "\n",
      "\n",
      "Tiempo total de ejecución:  1.618224859237671\n",
      "\n",
      "Error de validación: 0.14106152211671336 +/- 0.07312234095066142\n",
      "\n",
      "\n",
      "Tiempo total de ejecución:  6.741091728210449\n",
      "\n",
      "Error de validación: 0.061455841834732315 +/- 0.024299949365602414\n",
      "\n",
      "\n",
      "Tiempo total de ejecución:  1.9697086811065674\n",
      "\n",
      "Error de validación: 0.06540592647837132 +/- 0.031569854165239254\n",
      "\n",
      "\n",
      "Tiempo total de ejecución:  1.618265151977539\n",
      "\n",
      "Error de validación: 0.14106152211671336 +/- 0.07312234095066142\n",
      "\n",
      "\n",
      "Tiempo total de ejecución:  6.7358973026275635\n"
     ]
    }
   ],
   "source": [
    "import pandas as pd\n",
    "# import qgrid\n",
    "df_types = pd.DataFrame({\n",
    "    'Kernel' : pd.Series(['linear','linear','linear','linear','linear','linear','rbf','rbf','rbf','rbf','rbf','rbf','rbf','rbf','rbf','rbf','rbf','rbf','rbf','rbf','rbf','rbf','rbf','rbf']),\n",
    "    'C' : pd.Series([0.001,0.01,0.1,1,10,100,0.001,0.001,0.001,0.01,0.01,0.01,0.1,0.1,0.1,1,1,1,10,10,10,100,100,100]),\n",
    "    'gamma' : pd.Series([0,0,0,0,0,0,0.01,0.1,1,0.01,0.1,1,0.01,0.1,1,0.01,0.1,1,0.01,0.1,1,0.01,0.1,1])})\n",
    "df_types[\"MAPE Promedio\"] = \"\"\n",
    "df_types[\"Intervalo de confianza\"] = \"\"\n",
    "df_types[\"% de Vectores de Soporte\"] = \"\"\n",
    "df_types.set_index(['Kernel','C','gamma'], inplace=True)\n",
    "#Escriba acá su código\n",
    "\n",
    "for i in df_types.index:\n",
    "    mape, error, psv = experimento(i[0], i[1], i[2])\n",
    "    df_types[\"MAPE Promedio\"][i] = mape\n",
    "    df_types[\"Intervalo de confianza\"][i] = error\n",
    "    df_types[\"% de Vectores de Soporte\"][i] = psv\n",
    "    \n",
    "\n",
    "\n",
    "# Valores de referencia\n",
    "# df_types[\"MAPE Promedio\"][23] = \"0.2259\"\n",
    "# df_types[\"Intervalo de confianza\"][23] = \"0.1109\"\n",
    "# df_types[\"% de Vectores de Soporte\"][23] = \"0.2191\"\n",
    "\n",
    "# qgrid_widget = qgrid.show_grid(df_types, show_toolbar=False)\n",
    "# qgrid_widget"
   ]
  },
  {
   "cell_type": "code",
   "execution_count": 0,
   "metadata": {
    "colab": {},
    "colab_type": "code",
    "id": "ns1VjVunHM1g",
    "outputId": "7ee5ceba-9c48-4478-ee9b-7d0076f22665"
   },
   "outputs": [
    {
     "data": {
      "text/html": [
       "<div>\n",
       "<style scoped>\n",
       "    .dataframe tbody tr th:only-of-type {\n",
       "        vertical-align: middle;\n",
       "    }\n",
       "\n",
       "    .dataframe tbody tr th {\n",
       "        vertical-align: top;\n",
       "    }\n",
       "\n",
       "    .dataframe thead th {\n",
       "        text-align: right;\n",
       "    }\n",
       "</style>\n",
       "<table border=\"1\" class=\"dataframe\">\n",
       "  <thead>\n",
       "    <tr style=\"text-align: right;\">\n",
       "      <th></th>\n",
       "      <th></th>\n",
       "      <th></th>\n",
       "      <th>MAPE Promedio</th>\n",
       "      <th>Intervalo de confianza</th>\n",
       "      <th>% de Vectores de Soporte</th>\n",
       "    </tr>\n",
       "    <tr>\n",
       "      <th>Kernel</th>\n",
       "      <th>C</th>\n",
       "      <th>gamma</th>\n",
       "      <th></th>\n",
       "      <th></th>\n",
       "      <th></th>\n",
       "    </tr>\n",
       "  </thead>\n",
       "  <tbody>\n",
       "    <tr>\n",
       "      <th rowspan=\"6\" valign=\"top\">linear</th>\n",
       "      <th>0.001</th>\n",
       "      <th>0.00</th>\n",
       "      <td>0.137431</td>\n",
       "      <td>0.066192</td>\n",
       "      <td>0.0213549</td>\n",
       "    </tr>\n",
       "    <tr>\n",
       "      <th>0.010</th>\n",
       "      <th>0.00</th>\n",
       "      <td>0.137431</td>\n",
       "      <td>0.066192</td>\n",
       "      <td>0.0213549</td>\n",
       "    </tr>\n",
       "    <tr>\n",
       "      <th>0.100</th>\n",
       "      <th>0.00</th>\n",
       "      <td>0.137431</td>\n",
       "      <td>0.066192</td>\n",
       "      <td>0.0213549</td>\n",
       "    </tr>\n",
       "    <tr>\n",
       "      <th>1.000</th>\n",
       "      <th>0.00</th>\n",
       "      <td>0.137431</td>\n",
       "      <td>0.066192</td>\n",
       "      <td>0.0213549</td>\n",
       "    </tr>\n",
       "    <tr>\n",
       "      <th>10.000</th>\n",
       "      <th>0.00</th>\n",
       "      <td>0.137431</td>\n",
       "      <td>0.066192</td>\n",
       "      <td>0.0213549</td>\n",
       "    </tr>\n",
       "    <tr>\n",
       "      <th>100.000</th>\n",
       "      <th>0.00</th>\n",
       "      <td>0.137431</td>\n",
       "      <td>0.066192</td>\n",
       "      <td>0.0213549</td>\n",
       "    </tr>\n",
       "    <tr>\n",
       "      <th rowspan=\"18\" valign=\"top\">rbf</th>\n",
       "      <th rowspan=\"3\" valign=\"top\">0.001</th>\n",
       "      <th>0.01</th>\n",
       "      <td>0.0614558</td>\n",
       "      <td>0.0242999</td>\n",
       "      <td>0.00284567</td>\n",
       "    </tr>\n",
       "    <tr>\n",
       "      <th>0.10</th>\n",
       "      <td>0.0654059</td>\n",
       "      <td>0.0315699</td>\n",
       "      <td>0.0011124</td>\n",
       "    </tr>\n",
       "    <tr>\n",
       "      <th>1.00</th>\n",
       "      <td>0.141062</td>\n",
       "      <td>0.0731223</td>\n",
       "      <td>0.00473482</td>\n",
       "    </tr>\n",
       "    <tr>\n",
       "      <th rowspan=\"3\" valign=\"top\">0.010</th>\n",
       "      <th>0.01</th>\n",
       "      <td>0.0614558</td>\n",
       "      <td>0.0242999</td>\n",
       "      <td>0.00284567</td>\n",
       "    </tr>\n",
       "    <tr>\n",
       "      <th>0.10</th>\n",
       "      <td>0.0654059</td>\n",
       "      <td>0.0315699</td>\n",
       "      <td>0.0011124</td>\n",
       "    </tr>\n",
       "    <tr>\n",
       "      <th>1.00</th>\n",
       "      <td>0.141062</td>\n",
       "      <td>0.0731223</td>\n",
       "      <td>0.00473482</td>\n",
       "    </tr>\n",
       "    <tr>\n",
       "      <th rowspan=\"3\" valign=\"top\">0.100</th>\n",
       "      <th>0.01</th>\n",
       "      <td>0.0614558</td>\n",
       "      <td>0.0242999</td>\n",
       "      <td>0.00284567</td>\n",
       "    </tr>\n",
       "    <tr>\n",
       "      <th>0.10</th>\n",
       "      <td>0.0654059</td>\n",
       "      <td>0.0315699</td>\n",
       "      <td>0.0011124</td>\n",
       "    </tr>\n",
       "    <tr>\n",
       "      <th>1.00</th>\n",
       "      <td>0.141062</td>\n",
       "      <td>0.0731223</td>\n",
       "      <td>0.00473482</td>\n",
       "    </tr>\n",
       "    <tr>\n",
       "      <th rowspan=\"3\" valign=\"top\">1.000</th>\n",
       "      <th>0.01</th>\n",
       "      <td>0.0614558</td>\n",
       "      <td>0.0242999</td>\n",
       "      <td>0.00284567</td>\n",
       "    </tr>\n",
       "    <tr>\n",
       "      <th>0.10</th>\n",
       "      <td>0.0654059</td>\n",
       "      <td>0.0315699</td>\n",
       "      <td>0.0011124</td>\n",
       "    </tr>\n",
       "    <tr>\n",
       "      <th>1.00</th>\n",
       "      <td>0.141062</td>\n",
       "      <td>0.0731223</td>\n",
       "      <td>0.00473482</td>\n",
       "    </tr>\n",
       "    <tr>\n",
       "      <th rowspan=\"3\" valign=\"top\">10.000</th>\n",
       "      <th>0.01</th>\n",
       "      <td>0.0614558</td>\n",
       "      <td>0.0242999</td>\n",
       "      <td>0.00284567</td>\n",
       "    </tr>\n",
       "    <tr>\n",
       "      <th>0.10</th>\n",
       "      <td>0.0654059</td>\n",
       "      <td>0.0315699</td>\n",
       "      <td>0.0011124</td>\n",
       "    </tr>\n",
       "    <tr>\n",
       "      <th>1.00</th>\n",
       "      <td>0.141062</td>\n",
       "      <td>0.0731223</td>\n",
       "      <td>0.00473482</td>\n",
       "    </tr>\n",
       "    <tr>\n",
       "      <th rowspan=\"3\" valign=\"top\">100.000</th>\n",
       "      <th>0.01</th>\n",
       "      <td>0.0614558</td>\n",
       "      <td>0.0242999</td>\n",
       "      <td>0.00284567</td>\n",
       "    </tr>\n",
       "    <tr>\n",
       "      <th>0.10</th>\n",
       "      <td>0.0654059</td>\n",
       "      <td>0.0315699</td>\n",
       "      <td>0.0011124</td>\n",
       "    </tr>\n",
       "    <tr>\n",
       "      <th>1.00</th>\n",
       "      <td>0.141062</td>\n",
       "      <td>0.0731223</td>\n",
       "      <td>0.00473482</td>\n",
       "    </tr>\n",
       "  </tbody>\n",
       "</table>\n",
       "</div>"
      ],
      "text/plain": [
       "                     MAPE Promedio Intervalo de confianza  \\\n",
       "Kernel C       gamma                                        \n",
       "linear 0.001   0.00       0.137431               0.066192   \n",
       "       0.010   0.00       0.137431               0.066192   \n",
       "       0.100   0.00       0.137431               0.066192   \n",
       "       1.000   0.00       0.137431               0.066192   \n",
       "       10.000  0.00       0.137431               0.066192   \n",
       "       100.000 0.00       0.137431               0.066192   \n",
       "rbf    0.001   0.01      0.0614558              0.0242999   \n",
       "               0.10      0.0654059              0.0315699   \n",
       "               1.00       0.141062              0.0731223   \n",
       "       0.010   0.01      0.0614558              0.0242999   \n",
       "               0.10      0.0654059              0.0315699   \n",
       "               1.00       0.141062              0.0731223   \n",
       "       0.100   0.01      0.0614558              0.0242999   \n",
       "               0.10      0.0654059              0.0315699   \n",
       "               1.00       0.141062              0.0731223   \n",
       "       1.000   0.01      0.0614558              0.0242999   \n",
       "               0.10      0.0654059              0.0315699   \n",
       "               1.00       0.141062              0.0731223   \n",
       "       10.000  0.01      0.0614558              0.0242999   \n",
       "               0.10      0.0654059              0.0315699   \n",
       "               1.00       0.141062              0.0731223   \n",
       "       100.000 0.01      0.0614558              0.0242999   \n",
       "               0.10      0.0654059              0.0315699   \n",
       "               1.00       0.141062              0.0731223   \n",
       "\n",
       "                     % de Vectores de Soporte  \n",
       "Kernel C       gamma                           \n",
       "linear 0.001   0.00                 0.0213549  \n",
       "       0.010   0.00                 0.0213549  \n",
       "       0.100   0.00                 0.0213549  \n",
       "       1.000   0.00                 0.0213549  \n",
       "       10.000  0.00                 0.0213549  \n",
       "       100.000 0.00                 0.0213549  \n",
       "rbf    0.001   0.01                0.00284567  \n",
       "               0.10                 0.0011124  \n",
       "               1.00                0.00473482  \n",
       "       0.010   0.01                0.00284567  \n",
       "               0.10                 0.0011124  \n",
       "               1.00                0.00473482  \n",
       "       0.100   0.01                0.00284567  \n",
       "               0.10                 0.0011124  \n",
       "               1.00                0.00473482  \n",
       "       1.000   0.01                0.00284567  \n",
       "               0.10                 0.0011124  \n",
       "               1.00                0.00473482  \n",
       "       10.000  0.01                0.00284567  \n",
       "               0.10                 0.0011124  \n",
       "               1.00                0.00473482  \n",
       "       100.000 0.01                0.00284567  \n",
       "               0.10                 0.0011124  \n",
       "               1.00                0.00473482  "
      ]
     },
     "execution_count": 51,
     "metadata": {
      "tags": []
     },
     "output_type": "execute_result"
    }
   ],
   "source": [
    "df_types"
   ]
  },
  {
   "cell_type": "markdown",
   "metadata": {
    "colab_type": "text",
    "id": "3pa0Ja_qV4MU"
   },
   "source": [
    "Ejecute la siguiente instrucción para dejar guardados en el notebook los resultados de las pruebas."
   ]
  },
  {
   "cell_type": "markdown",
   "metadata": {
    "colab_type": "text",
    "id": "0U_VEaGjV4Mq"
   },
   "source": [
    "2.1 ¿Cuál es la finalidad de usar las funciones kernel en el modelo SVM?\n",
    "\n",
    "R/: Permite categorizar datos aunque de entrada no sean linealmente separables aplicando una transformación que los convierte en separables utilizando un hiperplano. \n",
    "\n",
    "2.2 ¿En este caso el porcentaje de vectores de soporte provee una información similar que en el problema de clasificación? Explique su respuesta.\n",
    "\n",
    "R/: Las muestras que se determinan como vectores de soporte son las que se usan para definir el margen del modelo, que sirve para darle forma a la función. Luego, el porcentaje de vectores de soporte indica qué tan sobreajustado está el modelo o no, igual que en el caso de clasificación.\n"
   ]
  },
  {
   "cell_type": "markdown",
   "metadata": {
    "colab_type": "text",
    "id": "8AueithhV4Mw"
   },
   "source": [
    "2.3 Realice una gráfica de las salidas reales vs las predicciones del modelo SVM, para evaluar visualmente el desempeño del mismo. Esto solo para la configuración en la cuál se encontró el menor error."
   ]
  },
  {
   "cell_type": "code",
   "execution_count": 0,
   "metadata": {
    "colab": {},
    "colab_type": "code",
    "id": "6i2yvY6DV4M0",
    "outputId": "b1830290-8b15-49bd-88f8-3df5681908af"
   },
   "outputs": [
    {
     "data": {
      "text/plain": [
       "<matplotlib.legend.Legend at 0x7fb3cd5710b8>"
      ]
     },
     "execution_count": 52,
     "metadata": {
      "tags": []
     },
     "output_type": "execute_result"
    },
    {
     "data": {
      "image/png": "[encoded data removed]",
      "text/plain": [
       "<Figure size 432x288 with 1 Axes>"
      ]
     },
     "metadata": {
      "needs_background": "light",
      "tags": []
     },
     "output_type": "display_data"
    }
   ],
   "source": [
    "'''Complete el código para hacer la gráfica aquí'''\n",
    "plt.title('Real vs. Predicción')\n",
    "plt.plot(y_test)\n",
    "plt.plot(ypred)\n",
    "plt.legend(['Real', 'Predicción'])"
   ]
  },
  {
   "cell_type": "code",
   "execution_count": 0,
   "metadata": {
    "colab": {},
    "colab_type": "code",
    "id": "NKRcvcbzV4NC"
   },
   "outputs": [],
   "source": [
    "# Experimento"
   ]
  },
  {
   "cell_type": "code",
   "execution_count": 0,
   "metadata": {
    "colab": {},
    "colab_type": "code",
    "id": "VSXl6Js4HM1v"
   },
   "outputs": [],
   "source": [
    "def experimento(kernel, C, gamma):\n",
    "    tiempo_i = time.time()\n",
    "\n",
    "    #Complete el código para crear el modelo SVM para regresión. \n",
    "    #Use un kernel rbf con una malla de valores así: C en {0.1, 100} y gamma en {0.0001, 0.1}\n",
    "    if gamma == 0:\n",
    "        clf = SVR(kernel, C)\n",
    "    else:\n",
    "        clf = SVR(kernel, C, gamma)\n",
    "\n",
    "    #Implemetamos la metodología de validación cross validation con 10 folds\n",
    "    Folds = 10\n",
    "    psv_mean = np.zeros(10)\n",
    "    Errores = np.ones(Folds)\n",
    "    j = 0\n",
    "    kf = KFold(n_splits=Folds)\n",
    "\n",
    "    for train_index, test_index in kf.split(X):\n",
    "        X_train, X_test = X[train_index], X[test_index]\n",
    "        y_train, y_test = Y[train_index], Y[test_index]  \n",
    "\n",
    "        #Complete el código\n",
    "        scaler = preprocessing.StandardScaler().fit(X_train)\n",
    "        X_train = scaler.transform(X_train)\n",
    "        X_test = scaler.transform(X_test)\n",
    "\n",
    "        # Entrenar el modelo\n",
    "        modelo = clf.fit(X_train, y_train)\n",
    "\n",
    "\n",
    "        # Validación del modelo\n",
    "        ypred = modelo.predict(X_test)\n",
    "\n",
    "        psv = modelo.support_vectors_\n",
    "        psv_mean[j] = len(psv) / len(X_train)\n",
    "\n",
    "        Errores[j] = MAPE(ypred, y_test)\n",
    "        j+=1\n",
    "\n",
    "    print(\"\\nError de validación: \" + str(np.mean(Errores)) + \" +/- \" + str(np.std(Errores)))\n",
    "\n",
    "    print (\"\\n\\nTiempo total de ejecución: \", str(time.time()-tiempo_i)), \" segundos.\"\n",
    "    mape = np.mean(Errores)\n",
    "    error = np.std(Errores)\n",
    "    psv = np.std(psv_mean)\n",
    "    \n",
    "    return mape, error, psv\n"
   ]
  },
  {
   "cell_type": "code",
   "execution_count": 0,
   "metadata": {
    "colab": {},
    "colab_type": "code",
    "id": "OUC2-RxMHM1y"
   },
   "outputs": [],
   "source": []
  }
 ],
 "metadata": {
  "colab": {
   "name": "Laboratorio_5_parte_2.ipynb",
   "provenance": []
  },
  "kernelspec": {
   "display_name": "Python 3",
   "language": "python",
   "name": "python3"
  },
  "language_info": {
   "codemirror_mode": {
    "name": "ipython",
    "version": 3
   },
   "file_extension": ".py",
   "mimetype": "text/x-python",
   "name": "python",
   "nbconvert_exporter": "python",
   "pygments_lexer": "ipython3",
   "version": "3.6.5"
  }
 },
 "nbformat": 4,
 "nbformat_minor": 1
}
