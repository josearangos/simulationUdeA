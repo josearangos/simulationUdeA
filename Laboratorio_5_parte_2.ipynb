{
  "nbformat": 4,
  "nbformat_minor": 0,
  "metadata": {
    "kernelspec": {
      "name": "python3",
      "display_name": "Python 3"
    },
    "language_info": {
      "codemirror_mode": {
        "name": "ipython",
        "version": 3
      },
      "file_extension": ".py",
      "mimetype": "text/x-python",
      "name": "python",
      "nbconvert_exporter": "python",
      "pygments_lexer": "ipython3",
      "version": "3.6.5"
    },
    "colab": {
      "name": "Laboratorio_5_parte_2.ipynb",
      "provenance": [],
      "toc_visible": true,
      "include_colab_link": true
    },
    "accelerator": "GPU"
  },
  "cells": [
    {
      "cell_type": "markdown",
      "metadata": {
        "id": "view-in-github",
        "colab_type": "text"
      },
      "source": [
        "<a href=\"https://colab.research.google.com/github/josearangos/simulationUdeA/blob/master/Laboratorio_5_parte_2.ipynb\" target=\"_parent\"><img src=\"https://colab.research.google.com/assets/colab-badge.svg\" alt=\"Open In Colab\"/></a>"
      ]
    },
    {
      "cell_type": "markdown",
      "metadata": {
        "id": "RQMHasTnIPlO",
        "colab_type": "text"
      },
      "source": [
        "# Laboratorio 5 - Parte 2\n",
        "\n",
        "### Máquinas de Vectores de Soporte\n",
        "\n",
        "### 2019-I\n",
        "\n",
        "#### Profesor: Julián D. Arias Londoño\n",
        "#### julian.ariasl@udea.edu.co"
      ]
    },
    {
      "cell_type": "markdown",
      "metadata": {
        "id": "_AM4FX5uIPlR",
        "colab_type": "text"
      },
      "source": [
        "## Guía del laboratorio\n",
        "\n",
        "En esta archivo va a encontrar tanto celdas de código cómo celdas de texto con las instrucciones para desarrollar el laboratorio.\n",
        "\n",
        "Lea atentamente las instrucciones entregadas en las celdas de texto correspondientes y proceda con la solución de las preguntas planteadas.\n",
        "\n",
        "Nota: no olvide ir ejecutando las celdas de código de arriba hacia abajo para que no tenga errores de importación de librerías o por falta de definición de variables."
      ]
    },
    {
      "cell_type": "markdown",
      "metadata": {
        "id": "UANLLfchIPlT",
        "colab_type": "text"
      },
      "source": [
        "#### Primer Integrante: Jose Alberto Arango Sánchez\n",
        "#### Segundo Integrante: Leon Dario Arango Amaya"
      ]
    },
    {
      "cell_type": "code",
      "metadata": {
        "id": "xzmc2_OqIPlV",
        "colab_type": "code",
        "colab": {}
      },
      "source": [
        "from __future__ import division\n",
        "import numpy as np\n",
        "import math\n",
        "import matplotlib.pyplot as plt\n",
        "#Algunas advertencias que queremos evitar\n",
        "import warnings\n",
        "warnings.filterwarnings(\"always\")\n",
        "%matplotlib inline"
      ],
      "execution_count": 0,
      "outputs": []
    },
    {
      "cell_type": "markdown",
      "metadata": {
        "id": "Bz1vxS4KIPlb",
        "colab_type": "text"
      },
      "source": [
        "## Ejercicio 1\n",
        "\n",
        "En este ejercicio usaremos la regresión por vectores de soporte para resolver el problema de regresión de la base de datos AirQuality (https://archive.ics.uci.edu/ml/datasets/Air+Quality)."
      ]
    },
    {
      "cell_type": "markdown",
      "metadata": {
        "id": "qLbOXPIWIPld",
        "colab_type": "text"
      },
      "source": [
        "La siguiente celda de código limpia la base de datos de todos sus datos faltantes y la deja lista en la variable DataBase."
      ]
    },
    {
      "cell_type": "code",
      "metadata": {
        "id": "BUhFSeEoIPlf",
        "colab_type": "code",
        "outputId": "98812646-c064-4fad-f19b-16cc2acb07ba",
        "colab": {
          "base_uri": "https://localhost:8080/",
          "height": 204
        }
      },
      "source": [
        "#cargamos la bd de entrenamiento\n",
        "db = np.loadtxt('AirQuality.data',delimiter='\\t')  # Assuming tab-delimiter\n",
        "print(\"Dim de la base de datos original: \" + str(np.shape(db)))\n",
        "db = db.reshape(9357,13)\n",
        "DataBase = db\n",
        "#La base d edatos AirQuality tiene muchos valores perdidos, vamos a quitar todos esos registros de la base de datos\n",
        "#Están marcados como -200. Donde haya un valor -200 eliminaremos el registro.\n",
        "j = 0\n",
        "for i in range(0,np.size(db,0)):\n",
        "    if -200 == db[i,12]:\n",
        "        #print i\n",
        "        j+=1\n",
        "        DataBase = np.delete(DataBase,i,0)\n",
        "    \n",
        "print(\"\\nHay \" + str(j) + \" valores perdidos en la variable de salida. :(\")\n",
        "\n",
        "print(\"\\nDim de la base de datos sin las muestras con variable de salida perdido \"+ str(np.shape(DataBase)))\n",
        "\n",
        "#Ya hemos eliminado los registros con valor de la variable de salida perdido.\n",
        "\n",
        "#Ahora vamos a imputar los valores perdidos en cada una de las características\n",
        "print(\"\\nProcesando imputación de valores perdidos en las características . . .\\n\")\n",
        "\n",
        "#data = open(\"AirQuality_cleaned.data\", \"w\")\n",
        "\n",
        "for k in range(0,np.size(DataBase,0)):\n",
        "    for w in range(0,13):\n",
        "        if -200 == DataBase[k,w]:\n",
        "            DataBase[k,w] = round(np.mean(DataBase[:,w]))\n",
        "        \n",
        "    #data.write(str(DataBase[k,:]))\n",
        "\n",
        "#data.close()\n",
        "print(\"Imputación finalizada.\\n\")\n",
        "\n",
        "hay_missed_values = False\n",
        "for i in range(0,np.size(DataBase,0)):\n",
        "    if -200 in DataBase[i,:]:\n",
        "        hay_missed_values = True\n",
        "if(hay_missed_values):\n",
        "    print(\"Hay valores perdidos\")\n",
        "else:\n",
        "    print(\"No hay valores perdidos en la base de datos. Ahora se puede procesar. La base de datos está en la variable DataBase\")"
      ],
      "execution_count": 2,
      "outputs": [
        {
          "output_type": "stream",
          "text": [
            "Dim de la base de datos original: (9357, 13)\n",
            "\n",
            "Hay 366 valores perdidos en la variable de salida. :(\n",
            "\n",
            "Dim de la base de datos sin las muestras con variable de salida perdido (8991, 13)\n",
            "\n",
            "Procesando imputación de valores perdidos en las características . . .\n",
            "\n",
            "Imputación finalizada.\n",
            "\n",
            "No hay valores perdidos en la base de datos. Ahora se puede procesar. La base de datos está en la variable DataBase\n"
          ],
          "name": "stdout"
        }
      ]
    },
    {
      "cell_type": "code",
      "metadata": {
        "id": "Pf7uCC1UIPlo",
        "colab_type": "code",
        "colab": {}
      },
      "source": [
        "X = DataBase[:,0:12]\n",
        "\n",
        "Y = DataBase[:,12]"
      ],
      "execution_count": 0,
      "outputs": []
    },
    {
      "cell_type": "code",
      "metadata": {
        "id": "hEjKZYmSIPlu",
        "colab_type": "code",
        "outputId": "17d2b74e-7f20-46c4-c35b-c2a8cb01840b",
        "colab": {
          "base_uri": "https://localhost:8080/",
          "height": 34
        }
      },
      "source": [
        "X.shape, Y.shape"
      ],
      "execution_count": 5,
      "outputs": [
        {
          "output_type": "execute_result",
          "data": {
            "text/plain": [
              "((8991, 12), (8991,))"
            ]
          },
          "metadata": {
            "tags": []
          },
          "execution_count": 5
        }
      ]
    },
    {
      "cell_type": "markdown",
      "metadata": {
        "id": "Jjd_oP49IPl0",
        "colab_type": "text"
      },
      "source": [
        "Definimos la función"
      ]
    },
    {
      "cell_type": "code",
      "metadata": {
        "id": "kYpen20CIPl1",
        "colab_type": "code",
        "colab": {}
      },
      "source": [
        "#Mean Absolute Percentage Error para los problemas de regresión\n",
        "def MAPE(Y_est,Y):\n",
        "    ind = Y != 0 #Remueve los elementos que son cero en la variable deseada\n",
        "    N = np.size(Y[ind])\n",
        "    mape = np.sum(abs((Y_est[ind].reshape(N,1) - Y[ind].reshape(N,1))/(Y[ind].reshape(N,1)+np.finfo(np.float).eps)))/N\n",
        "    return mape "
      ],
      "execution_count": 0,
      "outputs": []
    },
    {
      "cell_type": "markdown",
      "metadata": {
        "id": "9nlyaRPRIPl5",
        "colab_type": "text"
      },
      "source": [
        "Complete el código siguiente para usar la regresión por vectores de suporte usando la librería sklearn. https://scikit-learn.org/stable/modules/generated/sklearn.svm.SVR.html"
      ]
    },
    {
      "cell_type": "code",
      "metadata": {
        "id": "Cl9WkzI7IPl6",
        "colab_type": "code",
        "outputId": "8f9c3303-ce06-4974-847b-3294f6e6c030",
        "colab": {
          "base_uri": "https://localhost:8080/",
          "height": 119
        }
      },
      "source": [
        "from sklearn.model_selection import KFold\n",
        "from sklearn import preprocessing\n",
        "from sklearn.svm import SVR\n",
        "import time\n",
        "tiempo_i = time.time()\n",
        "\n",
        "#Complete el código para crear el modelo SVM para regresión. \n",
        "#Use un kernel rbf con una malla de valores así: C en {0.1, 100} y gamma en {0.0001, 0.1}\n",
        "\n",
        "#Implemetamos la metodología de validación cross validation con 10 folds\n",
        "Folds = 5\n",
        "Errores = np.ones(Folds)\n",
        "j = 0\n",
        "kf = KFold(n_splits=Folds)\n",
        "vectorSupport = np.ones(Folds)\n",
        "for train_index, test_index in kf.split(X):\n",
        "    \n",
        "    X_train, X_test = X[train_index], X[test_index]\n",
        "    y_train, y_test = Y[train_index], Y[test_index]  \n",
        "    \n",
        "     #Normalizamos los datos\n",
        "    scaler = preprocessing.StandardScaler().fit(X_train)\n",
        "    X_train = scaler.transform(X_train)\n",
        "    X_test = scaler.transform(X_test)\n",
        "    \n",
        "    #Complete el código\n",
        "    modelo = SVR(kernel='rbf',C=100,gamma = 1)\n",
        "    \n",
        "    \n",
        "    # Entrenar el modelo\n",
        "    modelo.fit(X_train,y_train)\n",
        "    vectors = np.size(modelo.support_vectors_,0)\n",
        "    vectorSupport[j] = vectors/len(X_train)\n",
        "    # Validación del modelo\n",
        "    ypred = modelo.predict(X_test)\n",
        " \n",
        "    Errores[j] = MAPE(ypred, y_test)\n",
        "    j+=1\n",
        "    \n",
        "print(\"\\nError de validación: \" + str(np.mean(Errores)) + \" +/- \" + str(np.std(Errores)))\n",
        "print(\" Porcentaje de Vectores de Soporte: \" + str(np.mean(vectorSupport)))\n",
        "print ((\"\\n\\nTiempo total de ejecución: \" + str(time.time()-tiempo_i)) + \" segundos.\")"
      ],
      "execution_count": 8,
      "outputs": [
        {
          "output_type": "stream",
          "text": [
            "\n",
            "Error de validación: 0.2259390395748797 +/- 0.11094914643434282\n",
            " Porcentaje de Vectores de Soporte: 0.21910801302774435\n",
            "\n",
            "\n",
            "Tiempo total de ejecución: 8.972959280014038 segundos.\n"
          ],
          "name": "stdout"
        }
      ]
    },
    {
      "cell_type": "code",
      "metadata": {
        "id": "PeC60H8VIPl9",
        "colab_type": "code",
        "colab": {
          "base_uri": "https://localhost:8080/",
          "height": 1000
        },
        "outputId": "5c5d3335-53b7-48e7-d839-5d1fe8203233"
      },
      "source": [
        "from sklearn.model_selection import KFold\n",
        "from sklearn import preprocessing\n",
        "from sklearn.svm import SVR\n",
        "import time\n",
        "tiempo_i = time.time()\n",
        "\n",
        "#Complete el código para crear el modelo SVM para regresión. \n",
        "#Use un kernel rbf con una malla de valores así: C en {0.1, 100} y gamma en {0.0001, 0.1}\n",
        "\n",
        "#Implemetamos la metodología de validación cross validation con 10 folds\n",
        "\n",
        "Kernels = ['linear','linear','linear','linear','linear','linear','rbf','rbf','rbf','rbf','rbf','rbf','rbf','rbf','rbf','rbf','rbf','rbf','rbf','rbf','rbf','rbf','rbf','rbf']\n",
        "Cs = [0.001,0.01,0.1,1,10,100,0.001,0.001,0.001,0.01,0.01,0.01,0.1,0.1,0.1,1,1,1,10,10,10,100,100,100]\n",
        "Gammas = ['auto','auto','auto','auto','auto','auto',0.01,0.1,1,0.01,0.1,1,0.01,0.1,1,0.01,0.1,1,0.01,0.1,1,0.01,0.1,1]\n",
        "\n",
        "Mapes = []\n",
        "Intervalos = []\n",
        "VSupports = []\n",
        "\n",
        "for i in range(len(Kernels)):\n",
        "    \n",
        "    Folds = 5\n",
        "    Errores = np.ones(Folds)\n",
        "    j = 0\n",
        "    kf = KFold(n_splits=Folds)\n",
        "    vectorSupport = np.ones(Folds)\n",
        "    for train_index, test_index in kf.split(X):\n",
        "\n",
        "        X_train, X_test = X[train_index], X[test_index]\n",
        "        y_train, y_test = Y[train_index], Y[test_index]  \n",
        "\n",
        "         #Normalizamos los datos\n",
        "        scaler = preprocessing.StandardScaler().fit(X_train)\n",
        "        X_train = scaler.transform(X_train)\n",
        "        X_test = scaler.transform(X_test)\n",
        "\n",
        "        #Complete el código\n",
        "        modelo = SVR(kernel=Kernels[i],C=Cs[i],gamma = Gammas[i])\n",
        "\n",
        "\n",
        "        # Entrenar el modelo\n",
        "        modelo.fit(X_train,y_train)\n",
        "        vectors = np.size(modelo.support_vectors_,0)\n",
        "        vectorSupport[j] = vectors/len(X_train)\n",
        "        # Validación del modelo\n",
        "        ypred = modelo.predict(X_test)\n",
        "\n",
        "        Errores[j] = MAPE(ypred, y_test)\n",
        "        j+=1\n",
        "\n",
        "    Mapes.append(np.mean(Errores))\n",
        "    Intervalos.append(np.std(Errores))\n",
        "    VSupports.append(np.mean(vectorSupport))\n",
        "    print(\"\\nError de validación: \" + str(np.mean(Errores)) + \" +/- \" + str(np.std(Errores)))\n",
        "    print(\" Porcentaje de Vectores de Soporte: \" + str(np.mean(vectorSupport)))\n",
        "    print ((\"\\n\\nTiempo total de ejecución: \" + str(time.time()-tiempo_i)) + \" segundos.\")"
      ],
      "execution_count": 9,
      "outputs": [
        {
          "output_type": "stream",
          "text": [
            "\n",
            "Error de validación: 0.21532161504323985 +/- 0.06460100562932213\n",
            " Porcentaje de Vectores de Soporte: 0.3786300277723352\n",
            "\n",
            "\n",
            "Tiempo total de ejecución: 4.252761125564575 segundos.\n",
            "\n",
            "Error de validación: 0.24490897173183038 +/- 0.0962859267563447\n",
            " Porcentaje de Vectores de Soporte: 0.37665612594249104\n",
            "\n",
            "\n",
            "Tiempo total de ejecución: 9.478327751159668 segundos.\n",
            "\n",
            "Error de validación: 0.27680077418621385 +/- 0.13461740462666608\n",
            " Porcentaje de Vectores de Soporte: 0.384970000032475\n",
            "\n",
            "\n",
            "Tiempo total de ejecución: 21.01167631149292 segundos.\n",
            "\n",
            "Error de validación: 0.2869582909645992 +/- 0.15071982828475336\n",
            " Porcentaje de Vectores de Soporte: 0.38622128608226974\n",
            "\n",
            "\n",
            "Tiempo total de ejecución: 71.40761494636536 segundos.\n",
            "\n",
            "Error de validación: 0.2866052170692736 +/- 0.1500497705716069\n",
            " Porcentaje de Vectores de Soporte: 0.38633249759104876\n",
            "\n",
            "\n",
            "Tiempo total de ejecución: 434.2511146068573 segundos.\n",
            "\n",
            "Error de validación: 0.28853639336068776 +/- 0.1531772568363643\n",
            " Porcentaje de Vectores de Soporte: 0.3863047005129662\n",
            "\n",
            "\n",
            "Tiempo total de ejecución: 3350.671378850937 segundos.\n",
            "\n",
            "Error de validación: 0.40149213855950106 +/- 0.20620107233468235\n",
            " Porcentaje de Vectores de Soporte: 0.7470254652163836\n",
            "\n",
            "\n",
            "Tiempo total de ejecución: 3365.145256996155 segundos.\n",
            "\n",
            "Error de validación: 0.3285171161868212 +/- 0.14022405087833348\n",
            " Porcentaje de Vectores de Soporte: 0.642560272493326\n",
            "\n",
            "\n",
            "Tiempo total de ejecución: 3377.1364414691925 segundos.\n",
            "\n",
            "Error de validación: 0.4905252936086666 +/- 0.28594350839964744\n",
            " Porcentaje de Vectores de Soporte: 0.769381251732968\n",
            "\n",
            "\n",
            "Tiempo total de ejecución: 3391.681298971176 segundos.\n",
            "\n",
            "Error de validación: 0.1830244451805043 +/- 0.0380779512969904\n",
            " Porcentaje de Vectores de Soporte: 0.4433882697412993\n",
            "\n",
            "\n",
            "Tiempo total de ejecución: 3400.4244713783264 segundos.\n",
            "\n",
            "Error de validación: 0.1792828703516775 +/- 0.05056250778672696\n",
            " Porcentaje de Vectores de Soporte: 0.2780009478069072\n",
            "\n",
            "\n",
            "Tiempo total de ejecución: 3405.872699737549 segundos.\n",
            "\n",
            "Error de validación: 0.3905585218583519 +/- 0.23416305674543042\n",
            " Porcentaje de Vectores de Soporte: 0.5615628615263233\n",
            "\n",
            "\n",
            "Tiempo total de ejecución: 3416.951065301895 segundos.\n",
            "\n",
            "Error de validación: 0.1474991396673567 +/- 0.03821109122787157\n",
            " Porcentaje de Vectores de Soporte: 0.19049660040575228\n",
            "\n",
            "\n",
            "Tiempo total de ejecución: 3421.008029937744 segundos.\n",
            "\n",
            "Error de validación: 0.1499473954045052 +/- 0.054459046130068585\n",
            " Porcentaje de Vectores de Soporte: 0.1517632587423164\n",
            "\n",
            "\n",
            "Tiempo total de ejecución: 3424.6797003746033 segundos.\n",
            "\n",
            "Error de validación: 0.26858280368586335 +/- 0.1504053866869833\n",
            " Porcentaje de Vectores de Soporte: 0.26901942192284023\n",
            "\n",
            "\n",
            "Tiempo total de ejecución: 3431.025267601013 segundos.\n",
            "\n",
            "Error de validación: 0.20443133125267948 +/- 0.18742060480901732\n",
            " Porcentaje de Vectores de Soporte: 0.12203941014832273\n",
            "\n",
            "\n",
            "Tiempo total de ejecución: 3434.3937418460846 segundos.\n",
            "\n",
            "Error de validación: 0.19166755765933371 +/- 0.14041298551363568\n",
            " Porcentaje de Vectores de Soporte: 0.16574939530723465\n",
            "\n",
            "\n",
            "Tiempo total de ejecución: 3439.099758863449 segundos.\n",
            "\n",
            "Error de validación: 0.23787662010514787 +/- 0.12997619659073503\n",
            " Porcentaje de Vectores de Soporte: 0.21668909892156618\n",
            "\n",
            "\n",
            "Tiempo total de ejecución: 3445.468810081482 segundos.\n",
            "\n",
            "Error de validación: 0.5590061928758729 +/- 0.9123220758887024\n",
            " Porcentaje de Vectores de Soporte: 0.16377644839787536\n",
            "\n",
            "\n",
            "Tiempo total de ejecución: 3451.9353771209717 segundos.\n",
            "\n",
            "Error de validación: 0.18029619223187465 +/- 0.1709242151764691\n",
            " Porcentaje de Vectores de Soporte: 0.10440963336156599\n",
            "\n",
            "\n",
            "Tiempo total de ejecución: 3458.7498800754547 segundos.\n",
            "\n",
            "Error de validación: 0.22261295327352126 +/- 0.1082996443994473\n",
            " Porcentaje de Vectores de Soporte: 0.2132966955730505\n",
            "\n",
            "\n",
            "Tiempo total de ejecución: 3465.8010547161102 segundos.\n",
            "\n",
            "Error de validación: 0.6903611071317131 +/- 1.2096633519402977\n",
            " Porcentaje de Vectores de Soporte: 0.10210253387184147\n",
            "\n",
            "\n",
            "Tiempo total de ejecución: 3481.568534374237 segundos.\n",
            "\n",
            "Error de validación: 0.2141462631423802 +/- 0.20358091596387595\n",
            " Porcentaje de Vectores de Soporte: 0.10460419744384411\n",
            "\n",
            "\n",
            "Tiempo total de ejecución: 3501.2415425777435 segundos.\n",
            "\n",
            "Error de validación: 0.2259390395748797 +/- 0.11094914643434282\n",
            " Porcentaje de Vectores de Soporte: 0.21910801302774435\n",
            "\n",
            "\n",
            "Tiempo total de ejecución: 3510.0880720615387 segundos.\n"
          ],
          "name": "stdout"
        }
      ]
    },
    {
      "cell_type": "markdown",
      "metadata": {
        "id": "PoASOB9tIPmC",
        "colab_type": "text"
      },
      "source": [
        "## Ejercicio 2\n",
        "\n",
        "Una vez complete el código, realice las simulaciones necesarias para llenar la tabla siguiente:"
      ]
    },
    {
      "cell_type": "code",
      "metadata": {
        "id": "TrX332MxeCq8",
        "colab_type": "code",
        "colab": {}
      },
      "source": [
        "#! pip install qgrid"
      ],
      "execution_count": 0,
      "outputs": []
    },
    {
      "cell_type": "code",
      "metadata": {
        "id": "_jgqSM_-IPmE",
        "colab_type": "code",
        "outputId": "fa3cdcde-9651-4285-c392-c08b98b4a48f",
        "colab": {
          "base_uri": "https://localhost:8080/",
          "height": 17
        }
      },
      "source": [
        "import pandas as pd\n",
        "import qgrid\n",
        "df_types = pd.DataFrame({\n",
        "    'Kernel' : pd.Series(['lineal','lineal','lineal','lineal','lineal','lineal','rbf','rbf','rbf','rbf','rbf','rbf','rbf','rbf','rbf','rbf','rbf','rbf','rbf','rbf','rbf','rbf','rbf','rbf']),\n",
        "    'C' : pd.Series([0.001,0.01,0.1,1,10,100,0.001,0.001,0.001,0.01,0.01,0.01,0.1,0.1,0.1,1,1,1,10,10,10,100,100,100]),\n",
        "    'gamma' : pd.Series([0,0,0,0,0,0,0.01,0.1,1,0.01,0.1,1,0.01,0.1,1,0.01,0.1,1,0.01,0.1,1,0.01,0.1,1])})\n",
        "df_types[\"MAPE Promedio\"] = \"\"\n",
        "df_types[\"Intervalo de confianza\"] = \"\"\n",
        "df_types[\"% de Vectores de Soporte\"] = \"\"\n",
        "df_types.set_index(['Kernel','C','gamma'], inplace=True)\n",
        "df_types[\"MAPE Promedio\"] = Mapes\n",
        "df_types[\"Intervalo de confianza\"] =Intervalos\n",
        "df_types[\"% de Vectores de Soporte\"] =VSupports\n",
        "#df_types.sort_index(inplace=True)\n",
        "qgrid_widget = qgrid.show_grid(df_types, show_toolbar=False)\n",
        "qgrid_widget"
      ],
      "execution_count": 14,
      "outputs": [
        {
          "output_type": "display_data",
          "data": {
            "application/vnd.jupyter.widget-view+json": {
              "model_id": "20d28d3bc97a4051a9bf633bf24a4f94",
              "version_minor": 0,
              "version_major": 2
            },
            "text/plain": [
              "QgridWidget(grid_options={'fullWidthRows': True, 'syncColumnCellResize': True, 'forceFitColumns': True, 'defau…"
            ]
          },
          "metadata": {
            "tags": []
          }
        }
      ]
    },
    {
      "cell_type": "markdown",
      "metadata": {
        "id": "r-oeMSbZIPmI",
        "colab_type": "text"
      },
      "source": [
        "Ejecute la siguiente instrucción para dejar guardados en el notebook los resultados de las pruebas."
      ]
    },
    {
      "cell_type": "code",
      "metadata": {
        "id": "e6AojeywIPmJ",
        "colab_type": "code",
        "outputId": "0637f3ae-7fbf-4d28-9447-3b08682953aa",
        "colab": {
          "base_uri": "https://localhost:8080/",
          "height": 824
        }
      },
      "source": [
        "qgrid_widget.get_changed_df()"
      ],
      "execution_count": 15,
      "outputs": [
        {
          "output_type": "execute_result",
          "data": {
            "text/html": [
              "<div>\n",
              "<style scoped>\n",
              "    .dataframe tbody tr th:only-of-type {\n",
              "        vertical-align: middle;\n",
              "    }\n",
              "\n",
              "    .dataframe tbody tr th {\n",
              "        vertical-align: top;\n",
              "    }\n",
              "\n",
              "    .dataframe thead th {\n",
              "        text-align: right;\n",
              "    }\n",
              "</style>\n",
              "<table border=\"1\" class=\"dataframe\">\n",
              "  <thead>\n",
              "    <tr style=\"text-align: right;\">\n",
              "      <th></th>\n",
              "      <th></th>\n",
              "      <th></th>\n",
              "      <th>MAPE Promedio</th>\n",
              "      <th>Intervalo de confianza</th>\n",
              "      <th>% de Vectores de Soporte</th>\n",
              "    </tr>\n",
              "    <tr>\n",
              "      <th>Kernel</th>\n",
              "      <th>C</th>\n",
              "      <th>gamma</th>\n",
              "      <th></th>\n",
              "      <th></th>\n",
              "      <th></th>\n",
              "    </tr>\n",
              "  </thead>\n",
              "  <tbody>\n",
              "    <tr>\n",
              "      <th rowspan=\"6\" valign=\"top\">lineal</th>\n",
              "      <th>0.001</th>\n",
              "      <th>0.00</th>\n",
              "      <td>0.215322</td>\n",
              "      <td>0.064601</td>\n",
              "      <td>0.378630</td>\n",
              "    </tr>\n",
              "    <tr>\n",
              "      <th>0.010</th>\n",
              "      <th>0.00</th>\n",
              "      <td>0.244909</td>\n",
              "      <td>0.096286</td>\n",
              "      <td>0.376656</td>\n",
              "    </tr>\n",
              "    <tr>\n",
              "      <th>0.100</th>\n",
              "      <th>0.00</th>\n",
              "      <td>0.276801</td>\n",
              "      <td>0.134617</td>\n",
              "      <td>0.384970</td>\n",
              "    </tr>\n",
              "    <tr>\n",
              "      <th>1.000</th>\n",
              "      <th>0.00</th>\n",
              "      <td>0.286958</td>\n",
              "      <td>0.150720</td>\n",
              "      <td>0.386221</td>\n",
              "    </tr>\n",
              "    <tr>\n",
              "      <th>10.000</th>\n",
              "      <th>0.00</th>\n",
              "      <td>0.286605</td>\n",
              "      <td>0.150050</td>\n",
              "      <td>0.386332</td>\n",
              "    </tr>\n",
              "    <tr>\n",
              "      <th>100.000</th>\n",
              "      <th>0.00</th>\n",
              "      <td>0.288536</td>\n",
              "      <td>0.153177</td>\n",
              "      <td>0.386305</td>\n",
              "    </tr>\n",
              "    <tr>\n",
              "      <th rowspan=\"18\" valign=\"top\">rbf</th>\n",
              "      <th rowspan=\"3\" valign=\"top\">0.001</th>\n",
              "      <th>0.01</th>\n",
              "      <td>0.401492</td>\n",
              "      <td>0.206201</td>\n",
              "      <td>0.747025</td>\n",
              "    </tr>\n",
              "    <tr>\n",
              "      <th>0.10</th>\n",
              "      <td>0.328517</td>\n",
              "      <td>0.140224</td>\n",
              "      <td>0.642560</td>\n",
              "    </tr>\n",
              "    <tr>\n",
              "      <th>1.00</th>\n",
              "      <td>0.490525</td>\n",
              "      <td>0.285944</td>\n",
              "      <td>0.769381</td>\n",
              "    </tr>\n",
              "    <tr>\n",
              "      <th rowspan=\"3\" valign=\"top\">0.010</th>\n",
              "      <th>0.01</th>\n",
              "      <td>0.183024</td>\n",
              "      <td>0.038078</td>\n",
              "      <td>0.443388</td>\n",
              "    </tr>\n",
              "    <tr>\n",
              "      <th>0.10</th>\n",
              "      <td>0.179283</td>\n",
              "      <td>0.050563</td>\n",
              "      <td>0.278001</td>\n",
              "    </tr>\n",
              "    <tr>\n",
              "      <th>1.00</th>\n",
              "      <td>0.390559</td>\n",
              "      <td>0.234163</td>\n",
              "      <td>0.561563</td>\n",
              "    </tr>\n",
              "    <tr>\n",
              "      <th rowspan=\"3\" valign=\"top\">0.100</th>\n",
              "      <th>0.01</th>\n",
              "      <td>0.147499</td>\n",
              "      <td>0.038211</td>\n",
              "      <td>0.190497</td>\n",
              "    </tr>\n",
              "    <tr>\n",
              "      <th>0.10</th>\n",
              "      <td>0.149947</td>\n",
              "      <td>0.054459</td>\n",
              "      <td>0.151763</td>\n",
              "    </tr>\n",
              "    <tr>\n",
              "      <th>1.00</th>\n",
              "      <td>0.268583</td>\n",
              "      <td>0.150405</td>\n",
              "      <td>0.269019</td>\n",
              "    </tr>\n",
              "    <tr>\n",
              "      <th rowspan=\"3\" valign=\"top\">1.000</th>\n",
              "      <th>0.01</th>\n",
              "      <td>0.204431</td>\n",
              "      <td>0.187421</td>\n",
              "      <td>0.122039</td>\n",
              "    </tr>\n",
              "    <tr>\n",
              "      <th>0.10</th>\n",
              "      <td>0.191668</td>\n",
              "      <td>0.140413</td>\n",
              "      <td>0.165749</td>\n",
              "    </tr>\n",
              "    <tr>\n",
              "      <th>1.00</th>\n",
              "      <td>0.237877</td>\n",
              "      <td>0.129976</td>\n",
              "      <td>0.216689</td>\n",
              "    </tr>\n",
              "    <tr>\n",
              "      <th rowspan=\"3\" valign=\"top\">10.000</th>\n",
              "      <th>0.01</th>\n",
              "      <td>0.559006</td>\n",
              "      <td>0.912322</td>\n",
              "      <td>0.163776</td>\n",
              "    </tr>\n",
              "    <tr>\n",
              "      <th>0.10</th>\n",
              "      <td>0.180296</td>\n",
              "      <td>0.170924</td>\n",
              "      <td>0.104410</td>\n",
              "    </tr>\n",
              "    <tr>\n",
              "      <th>1.00</th>\n",
              "      <td>0.222613</td>\n",
              "      <td>0.108300</td>\n",
              "      <td>0.213297</td>\n",
              "    </tr>\n",
              "    <tr>\n",
              "      <th rowspan=\"3\" valign=\"top\">100.000</th>\n",
              "      <th>0.01</th>\n",
              "      <td>0.690361</td>\n",
              "      <td>1.209663</td>\n",
              "      <td>0.102103</td>\n",
              "    </tr>\n",
              "    <tr>\n",
              "      <th>0.10</th>\n",
              "      <td>0.214146</td>\n",
              "      <td>0.203581</td>\n",
              "      <td>0.104604</td>\n",
              "    </tr>\n",
              "    <tr>\n",
              "      <th>1.00</th>\n",
              "      <td>0.225939</td>\n",
              "      <td>0.110949</td>\n",
              "      <td>0.219108</td>\n",
              "    </tr>\n",
              "  </tbody>\n",
              "</table>\n",
              "</div>"
            ],
            "text/plain": [
              "                      MAPE Promedio  ...  % de Vectores de Soporte\n",
              "Kernel C       gamma                 ...                          \n",
              "lineal 0.001   0.00        0.215322  ...                  0.378630\n",
              "       0.010   0.00        0.244909  ...                  0.376656\n",
              "       0.100   0.00        0.276801  ...                  0.384970\n",
              "       1.000   0.00        0.286958  ...                  0.386221\n",
              "       10.000  0.00        0.286605  ...                  0.386332\n",
              "       100.000 0.00        0.288536  ...                  0.386305\n",
              "rbf    0.001   0.01        0.401492  ...                  0.747025\n",
              "               0.10        0.328517  ...                  0.642560\n",
              "               1.00        0.490525  ...                  0.769381\n",
              "       0.010   0.01        0.183024  ...                  0.443388\n",
              "               0.10        0.179283  ...                  0.278001\n",
              "               1.00        0.390559  ...                  0.561563\n",
              "       0.100   0.01        0.147499  ...                  0.190497\n",
              "               0.10        0.149947  ...                  0.151763\n",
              "               1.00        0.268583  ...                  0.269019\n",
              "       1.000   0.01        0.204431  ...                  0.122039\n",
              "               0.10        0.191668  ...                  0.165749\n",
              "               1.00        0.237877  ...                  0.216689\n",
              "       10.000  0.01        0.559006  ...                  0.163776\n",
              "               0.10        0.180296  ...                  0.104410\n",
              "               1.00        0.222613  ...                  0.213297\n",
              "       100.000 0.01        0.690361  ...                  0.102103\n",
              "               0.10        0.214146  ...                  0.104604\n",
              "               1.00        0.225939  ...                  0.219108\n",
              "\n",
              "[24 rows x 3 columns]"
            ]
          },
          "metadata": {
            "tags": []
          },
          "execution_count": 15
        }
      ]
    },
    {
      "cell_type": "markdown",
      "metadata": {
        "id": "mduGQm4fIPmN",
        "colab_type": "text"
      },
      "source": [
        "3.1 ¿Cuál es la finalidad de usar las funciones kernel en el modelo SVM?"
      ]
    },
    {
      "cell_type": "markdown",
      "metadata": {
        "id": "stehpdBpIPmO",
        "colab_type": "text"
      },
      "source": [
        "**R//:** La finalidad de usar las funciones kernel en el modelo SVM \n",
        "\n",
        "\n",
        "\n",
        "\n",
        "La finalidad de usar funciones kernel en el modelo SVM es poder proyectar el espacio de características a un espacio con una dimensión mayor para hacer que una función lineal se aproxime más a los puntos."
      ]
    },
    {
      "cell_type": "markdown",
      "metadata": {
        "id": "PgElbcdUIPmP",
        "colab_type": "text"
      },
      "source": [
        "3.2 ¿En este caso el porcentaje de vectores de soporte provee una información similar que en el problema de clasificación? Explique su respuesta."
      ]
    },
    {
      "cell_type": "markdown",
      "metadata": {
        "id": "GJNB0GlHIPmR",
        "colab_type": "text"
      },
      "source": [
        "R/:No"
      ]
    },
    {
      "cell_type": "markdown",
      "metadata": {
        "id": "g1fHH1q2IPmT",
        "colab_type": "text"
      },
      "source": [
        "3.3 Realice una gráfica de las salidas reales vs las predicciones del modelo SVM, para evaluar visualmente el desempeño del mismo. Esto solo para la configuración en la cuál se encontró el menor error."
      ]
    },
    {
      "cell_type": "code",
      "metadata": {
        "id": "yIe5x31IIPmU",
        "colab_type": "code",
        "colab": {}
      },
      "source": [
        "'''Complete el código para hacer la gráfica aquí'''"
      ],
      "execution_count": 0,
      "outputs": []
    },
    {
      "cell_type": "code",
      "metadata": {
        "id": "g2WqNEvTIPmY",
        "colab_type": "code",
        "colab": {}
      },
      "source": [
        ""
      ],
      "execution_count": 0,
      "outputs": []
    }
  ]
}